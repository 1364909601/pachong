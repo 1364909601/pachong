{
 "cells": [
  {
   "cell_type": "code",
   "execution_count": 1,
   "metadata": {
    "collapsed": true
   },
   "outputs": [],
   "source": [
    "from lxml import etree"
   ]
  },
  {
   "cell_type": "code",
   "execution_count": 18,
   "metadata": {
    "collapsed": true
   },
   "outputs": [],
   "source": [
    "sample1 = \"\"\"<html>\n",
    "  <head>\n",
    "    <title>My page</title>\n",
    "  </head>\n",
    "  <body>\n",
    "    <h2>Welcome to my <a href=\"#\" src=\"x\">page</a></h2>\n",
    "    <p>This is the first paragraph.</p>\n",
    "    <!-- this is the end -->\n",
    "  </body>\n",
    "</html>\n",
    "\"\"\""
   ]
  },
  {
   "cell_type": "code",
   "execution_count": 3,
   "metadata": {
    "collapsed": true
   },
   "outputs": [],
   "source": [
    "def getxpath(html):\n",
    "    return etree.HTML(html)"
   ]
  },
  {
   "cell_type": "code",
   "execution_count": 19,
   "metadata": {
    "collapsed": true
   },
   "outputs": [],
   "source": [
    "s1 = getxpath(sample1)"
   ]
  },
  {
   "cell_type": "code",
   "execution_count": 9,
   "metadata": {
    "collapsed": false
   },
   "outputs": [
    {
     "data": {
      "text/plain": [
       "['My page']"
      ]
     },
     "execution_count": 9,
     "metadata": {},
     "output_type": "execute_result"
    }
   ],
   "source": [
    "# 获取标题(两种方法都可以，第一种为绝对地址，第二种为相对地址)\n",
    "s1.xpath('//title/text()')\n",
    "s1.xpath('/html/head/title/text()')"
   ]
  },
  {
   "cell_type": "code",
   "execution_count": 21,
   "metadata": {
    "collapsed": false
   },
   "outputs": [
    {
     "data": {
      "text/plain": [
       "['x']"
      ]
     },
     "execution_count": 21,
     "metadata": {},
     "output_type": "execute_result"
    }
   ],
   "source": [
    "s1.xpath('//h2/a/@src')"
   ]
  },
  {
   "cell_type": "code",
   "execution_count": 13,
   "metadata": {
    "collapsed": false
   },
   "outputs": [
    {
     "data": {
      "text/plain": [
       "['#']"
      ]
     },
     "execution_count": 13,
     "metadata": {},
     "output_type": "execute_result"
    }
   ],
   "source": [
    "s1.xpath('//@href')"
   ]
  },
  {
   "cell_type": "code",
   "execution_count": 14,
   "metadata": {
    "collapsed": false
   },
   "outputs": [
    {
     "data": {
      "text/plain": [
       "['\\n  ',\n",
       " '\\n    ',\n",
       " 'My page',\n",
       " '\\n  ',\n",
       " '\\n  ',\n",
       " '\\n    ',\n",
       " 'Welcome to my ',\n",
       " 'page',\n",
       " '\\n    ',\n",
       " 'This is the first paragraph.',\n",
       " '\\n    ',\n",
       " '\\n  ',\n",
       " '\\n']"
      ]
     },
     "execution_count": 14,
     "metadata": {},
     "output_type": "execute_result"
    }
   ],
   "source": [
    "s1.xpath('//text()')"
   ]
  },
  {
   "cell_type": "code",
   "execution_count": 22,
   "metadata": {
    "collapsed": false
   },
   "outputs": [
    {
     "data": {
      "text/plain": [
       "[<!-- this is the end -->]"
      ]
     },
     "execution_count": 22,
     "metadata": {},
     "output_type": "execute_result"
    }
   ],
   "source": [
    "s1.xpath('//comment()')"
   ]
  },
  {
   "cell_type": "code",
   "execution_count": 23,
   "metadata": {
    "collapsed": true
   },
   "outputs": [],
   "source": [
    "sample2 = \"\"\"\n",
    "<html>\n",
    "  <body>\n",
    "    <ul>\n",
    "      <li>Quote 1</li>\n",
    "      <li>Quote 2 with <a href=\"...\">link</a></li>\n",
    "      <li>Quote 3 with <a href=\"...\">another link</a></li>\n",
    "      <li><h2>Quote 4 title</h2> ...</li>\n",
    "    </ul>\n",
    "  </body>\n",
    "</html>\n",
    "\"\"\""
   ]
  },
  {
   "cell_type": "code",
   "execution_count": 24,
   "metadata": {
    "collapsed": true
   },
   "outputs": [],
   "source": [
    "s2 = getxpath(sample2)"
   ]
  },
  {
   "cell_type": "code",
   "execution_count": 28,
   "metadata": {
    "collapsed": false
   },
   "outputs": [
    {
     "data": {
      "text/plain": [
       "['Quote 1', 'Quote 2 with ', 'Quote 3 with ', ' ...']"
      ]
     },
     "execution_count": 28,
     "metadata": {},
     "output_type": "execute_result"
    }
   ],
   "source": [
    "#所有的li\n",
    "s2.xpath('//li/text()')"
   ]
  },
  {
   "cell_type": "code",
   "execution_count": 38,
   "metadata": {
    "collapsed": false
   },
   "outputs": [
    {
     "data": {
      "text/plain": [
       "['Quote 2 with ']"
      ]
     },
     "execution_count": 38,
     "metadata": {},
     "output_type": "execute_result"
    }
   ],
   "source": [
    "#获取第1个li\n",
    "s2.xpath('//li[position() = 1]/text()')\n",
    "s2.xpath('//li[1]/text()')\n",
    "#获取第2个li\n",
    "s2.xpath('//li[position() = 2]/text()')\n",
    "s2.xpath('//li[2]/text()')"
   ]
  },
  {
   "cell_type": "code",
   "execution_count": 79,
   "metadata": {
    "collapsed": false
   },
   "outputs": [
    {
     "data": {
      "text/plain": [
       "[' ...']"
      ]
     },
     "execution_count": 79,
     "metadata": {},
     "output_type": "execute_result"
    }
   ],
   "source": [
    "#所有基数位的li\n",
    "s2.xpath('//li[position() mod2 = 1]/text()')\n",
    "#所有偶数位的li\n",
    "s2.xpath('//li[position() mod2 = 0]/text()')\n",
    "#取li最后一个的\n",
    "s2.xpath('//li[last()]/text()')"
   ]
  },
  {
   "cell_type": "code",
   "execution_count": 78,
   "metadata": {
    "collapsed": false
   },
   "outputs": [
    {
     "data": {
      "text/plain": [
       "['Quote 2 with ', 'Quote 3 with ', ' ...']"
      ]
     },
     "execution_count": 78,
     "metadata": {},
     "output_type": "execute_result"
    }
   ],
   "source": [
    "# li下面有a的\n",
    "s2.xpath('//li[a]/text()')\n",
    "#li 下面有a活着h2的\n",
    "s2.xpath('//li[a or h2]/text()')"
   ]
  },
  {
   "cell_type": "code",
   "execution_count": 90,
   "metadata": {
    "collapsed": false
   },
   "outputs": [
    {
     "data": {
      "text/plain": [
       "['link', 'another link', 'Quote 4 title']"
      ]
     },
     "execution_count": 90,
     "metadata": {},
     "output_type": "execute_result"
    }
   ],
   "source": [
    "#获取a 和 h2\n",
    "s2.xpath('//a/text()|//h2/text()')"
   ]
  },
  {
   "cell_type": "code",
   "execution_count": 110,
   "metadata": {
    "collapsed": true
   },
   "outputs": [],
   "source": [
    "sample3 = \"\"\"<html>\n",
    "  <body>\n",
    "    <ul>\n",
    "      <li id=\"begin\"><a href=\"https://scrapy.org\">Scrapy</a>begin</li>\n",
    "      <li><a href=\"https://scrapinghub.com\">Scrapinghub</a></li>\n",
    "      <li><a href=\"https://blog.scrapinghub.com\">Scrapinghub Blog</a></li>\n",
    "      <li id=\"end\"><a href=\"http://quotes.toscrape.com\">Quotes To Scrape</a>end</li>\n",
    "      <li data-xxxx=\"end\" abc=\"abc\"><a href=\"http://quotes.toscrape.com\">Quotes To Scrape</a>end</li>\n",
    "    </ul>\n",
    "  </body>\n",
    "</html>\n",
    "\"\"\""
   ]
  },
  {
   "cell_type": "code",
   "execution_count": 111,
   "metadata": {
    "collapsed": true
   },
   "outputs": [],
   "source": [
    "s3 = getxpath(sample3)"
   ]
  },
  {
   "cell_type": "code",
   "execution_count": 109,
   "metadata": {
    "collapsed": false
   },
   "outputs": [
    {
     "data": {
      "text/plain": [
       "['Scrapinghub']"
      ]
     },
     "execution_count": 109,
     "metadata": {},
     "output_type": "execute_result"
    }
   ],
   "source": [
    "#获取 a标签下 href以https开始的\n",
    "s3.xpath('//a[starts-with(@href, \"https\")]/text()')\n",
    "#获取 href=https://scrapy.org\n",
    "s3.xpath('//li/a[@href=\"https://scrapy.org\"]/text()')\n",
    "#获取 id=begin\n",
    "s3.xpath('//li[@id=\"begin\"]/text()')\n",
    "#获取text=Scrapinghub\n",
    "s3.xpath('//li/a[text()=\"Scrapinghub\"]/text()')"
   ]
  },
  {
   "cell_type": "code",
   "execution_count": 113,
   "metadata": {
    "collapsed": false
   },
   "outputs": [
    {
     "data": {
      "text/plain": [
       "['end']"
      ]
     },
     "execution_count": 113,
     "metadata": {},
     "output_type": "execute_result"
    }
   ],
   "source": [
    "#获取某个标签下 某个参数=xx\n",
    "s3.xpath('//li[@data-xxxx=\"end\"]/text()')\n",
    "s3.xpath('//li[@abc=\"abc\"]/text()')"
   ]
  },
  {
   "cell_type": "code",
   "execution_count": 186,
   "metadata": {
    "collapsed": true
   },
   "outputs": [],
   "source": [
    "sample4 = u\"\"\"\n",
    "<html>\n",
    "  <head>\n",
    "    <title>My page</title>\n",
    "  </head>\n",
    "  <body>\n",
    "    <h2>Welcome to my <a href=\"#\" src=\"x\">page</a></h2>\n",
    "    <p>This is the first paragraph.</p>\n",
    "    <p class=\"test\">\n",
    "    编程语言<a href=\"#\">python</a>\n",
    "    <img src=\"#\" alt=\"test\"/>javascript\n",
    "    <a href=\"#\"><strong>C#</strong>JAVA</a>\n",
    "    </p>\n",
    "    <p class=\"content-a\">a</p>\n",
    "    <p class=\"content-b\">b</p>\n",
    "    <p class=\"content-c\">c</p>\n",
    "    <p class=\"content-d\">d</p>\n",
    "    <p class=\"econtent-e\">e</p>\n",
    "    <!-- this is the end -->\n",
    "  </body>\n",
    "</html>\n",
    "\"\"\""
   ]
  },
  {
   "cell_type": "code",
   "execution_count": 187,
   "metadata": {
    "collapsed": true
   },
   "outputs": [],
   "source": [
    "s4 = etree.HTML(sample4)"
   ]
  },
  {
   "cell_type": "code",
   "execution_count": 188,
   "metadata": {
    "collapsed": false
   },
   "outputs": [
    {
     "data": {
      "text/plain": [
       "[u'\\n    \\u7f16\\u7a0b\\u8bed\\u8a00', '\\n    ', 'javascript\\n    ', '\\n    ']"
      ]
     },
     "execution_count": 188,
     "metadata": {},
     "output_type": "execute_result"
    }
   ],
   "source": [
    "s4.xpath('//p[@class=\"test\"]/text()')"
   ]
  },
  {
   "cell_type": "code",
   "execution_count": 189,
   "metadata": {
    "collapsed": false
   },
   "outputs": [
    {
     "name": "stdout",
     "output_type": "stream",
     "text": [
      "编程语言python\n",
      "    javascript\n",
      "    C#JAVA\n"
     ]
    }
   ],
   "source": [
    "#获取p下面的所有文字\n",
    "print s4.xpath('string(//p[@class=\"test\"])').strip()"
   ]
  },
  {
   "cell_type": "code",
   "execution_count": 176,
   "metadata": {
    "collapsed": false
   },
   "outputs": [
    {
     "data": {
      "text/plain": [
       "['a', 'b', 'c', 'd']"
      ]
     },
     "execution_count": 176,
     "metadata": {},
     "output_type": "execute_result"
    }
   ],
   "source": [
    "#获取所有class中有content的\n",
    "s4.xpath('//p[starts-with(@class,\"content\")]/text()')\n",
    "s4.xpath(('//*[contains(@class,\"content\")]/text()'))"
   ]
  },
  {
   "cell_type": "markdown",
   "metadata": {},
   "source": [
    "参考 ：[AN INTRODUCTION TO XPATH: HOW TO GET STARTED](https://blog.scrapinghub.com/2016/10/27/an-introduction-to-xpath-with-examples/)\n"
   ]
  },
  {
   "cell_type": "code",
   "execution_count": null,
   "metadata": {
    "collapsed": true
   },
   "outputs": [],
   "source": []
  }
 ],
 "metadata": {
  "kernelspec": {
   "display_name": "Python 2",
   "language": "python",
   "name": "python2"
  },
  "language_info": {
   "codemirror_mode": {
    "name": "ipython",
    "version": 2
   },
   "file_extension": ".py",
   "mimetype": "text/x-python",
   "name": "python",
   "nbconvert_exporter": "python",
   "pygments_lexer": "ipython2",
   "version": "2.7.11rc1"
  }
 },
 "nbformat": 4,
 "nbformat_minor": 2
}
