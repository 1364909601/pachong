{
 "cells": [
  {
   "cell_type": "markdown",
   "metadata": {},
   "source": [
    "前面我们学习了如何下载网页，那么这一节就是如何从下载的网页中获取我们想要的内容？"
   ]
  },
  {
   "cell_type": "code",
   "execution_count": 12,
   "metadata": {
    "collapsed": true
   },
   "outputs": [],
   "source": [
    "html = u\"\"\"\n",
    "<!DOCTYPE html>\n",
    "<html lang=\"en\">\n",
    "<head>\n",
    "    <meta charset=\"UTF-8\">\n",
    "    <title>文章的标题</title>\n",
    "</head>\n",
    "<body>\n",
    "    <div id=\"app\" class=\"container\">\n",
    "        <h1>h1文字</h1>\n",
    "\n",
    "        <label for=\"input\">Input</label>\n",
    "        <textarea id=\"input\" rows=\"10\" class=\"form-control\">\n",
    "</body>\n",
    "</html>\n",
    "\"\"\""
   ]
  },
  {
   "cell_type": "markdown",
   "metadata": {},
   "source": [
    "我们要获取的html 如上所示，\n",
    "\n",
    "假如我们要获取**`文章的标题`**这几个文字，那么我们应该怎么做呢？\n",
    "\n",
    "我们只要能定位到它，也就能获取到它\n",
    "\n",
    "那么，如何定位到它呢？\n",
    "\n",
    "很简单,根据它两边的内容.\n",
    "\n",
    "我们很简单的能发现 它 左边是`<title>` ,右边是`</title>`\n",
    "\n",
    "所以，我们如何找到**`文章的标题`**这几个文字呢，只要左边是`<title>` ,右边是`</title>`，那么中间就是我们要找的\n",
    "\n",
    "下面用程序写出来"
   ]
  },
  {
   "cell_type": "code",
   "execution_count": 13,
   "metadata": {
    "collapsed": false
   },
   "outputs": [
    {
     "data": {
      "text/plain": [
       "[u'\\u6587\\u7ae0\\u7684\\u6807\\u9898']"
      ]
     },
     "execution_count": 13,
     "metadata": {},
     "output_type": "execute_result"
    }
   ],
   "source": [
    "# 引入正则表达式\n",
    "import re\n"
   ]
  },
  {
   "cell_type": "code",
   "execution_count": 20,
   "metadata": {
    "collapsed": false
   },
   "outputs": [
    {
     "name": "stdout",
     "output_type": "stream",
     "text": [
      "文章的标题\n"
     ]
    }
   ],
   "source": [
    "# 按照上面我们说的方法匹配\n",
    "# re.findall 返回的是一个列表\n",
    "# 它有3个参数 ，第一个参数是 正则表达式，也就是如何匹配\n",
    "#第二个参数是需要匹配的字符创，这边我们需要匹配的是`html`\n",
    "#第三个参数是可选的，\n",
    "print re.findall(pattern='<title>(.*?)</title>',string=html,flags=re.S)[0]"
   ]
  },
  {
   "cell_type": "markdown",
   "metadata": {},
   "source": [
    "可以看到我们正确匹配到了**文章的标题**，\n",
    "\n",
    "我们首先来看 `pattern = '<title>(.*?)</title>'`\n",
    "\n",
    "我们可以发现这就是我们上面讲的,左边是`<title>` ,右边是`</title>`,那么中间的`(.*？)`是什么呢？这其实是来用来声明我们要匹配的字符串是什么,这边我们用的是`(.*?)`,表示我们要匹配的字符串可以是任何东西,没有格式要求。也就是俗称\"万能匹配\"，大家可以下图的正则表达式语法，来解释下为什么 `.*?` 是万能匹配, `.*？` 外面的 `()` 又是什么鬼\n",
    "\n",
    "`string=html` 表示我们当前要被匹配的是我们定义的`html`\n",
    "\n",
    "最后`flags=re.S` 表示,`(.*?)`中的 `.` 可以匹配包括换行符（见下面表）\n",
    "\n",
    "`[0]` 是取返回列表中的第一个，主要是方便演示"
   ]
  },
  {
   "cell_type": "markdown",
   "metadata": {},
   "source": [
    "\n",
    "##  正则表达式语法（声明我们要匹配的字符串是什么格式的）\n",
    "引用自 csdn\n",
    "![Python支持的正则表达式元字符和语法](http://images.cnblogs.com/cnblogs_com/huxi/Windows-Live-Writer/Python_10A67/pyre_ebb9ce1c-e5e8-4219-a8ae-7ee620d5f9f1.png)"
   ]
  },
  {
   "cell_type": "markdown",
   "metadata": {},
   "source": [
    "## re中所有的flags解释\n",
    "\n",
    "| flags        | 简写           | 干啥的  | 官方解释\n",
    "| ------------- |:-------------:| :-----| :-----|\n",
    "| re.IGNORECASE      | re.I | 不区分大小写| Perform case-insensitive matching; expressions like [A-Z] will match lowercase letters, too. This is not affected by the current locale. |\n",
    "| re.MULTILINE     | re.M     |匹配多行 |   When specified, the pattern character '^' matches at the beginning of the string and at the beginning of each line (immediately following each newline); and the pattern character '$' matches at the end of the string and at the end of each line (immediately preceding each newline). By default, '^' matches only at the beginning of the string, and '$' only at the end of the string and immediately before the newline (if any) at the end of the string. |\n",
    "| re.DOTALL | re.S     |让`.`匹配任何字符，包括换行 |  Make the '.' special character match any character at all, including a newline; without this flag, '.' will match anything except a newline. |\n",
    "| re.UNICODE | re.U    |匹配unicode  |    Make \\w, \\W, \\b, \\B, \\d, \\D, \\s and \\S dependent on the Unicode character properties database. |\n",
    "| re.DEBUG |       | 显示调试信息  | Display debug information about compiled expression. |\n",
    "| re.LOCALE |    re.L  | |    Make \\w, \\W, \\b, \\B, \\s and \\S dependent on the current locale. |"
   ]
  },
  {
   "cell_type": "markdown",
   "metadata": {},
   "source": [
    "最后再来一个案例，还是上面的html，我们需要匹配的内容是`h1文字`,代码如下"
   ]
  },
  {
   "cell_type": "code",
   "execution_count": 24,
   "metadata": {
    "collapsed": false
   },
   "outputs": [
    {
     "name": "stdout",
     "output_type": "stream",
     "text": [
      "h1文字\n"
     ]
    }
   ],
   "source": [
    "print re.findall('h1>(.*?)</h1>',html)[0]"
   ]
  },
  {
   "cell_type": "markdown",
   "metadata": {},
   "source": [
    "大家看完我写的，估计会说，我擦，不应该是 `re.findall('<h1>(.*?)</h1>',html)[0]` 吗?\n",
    "\n",
    "其实只要是**被匹配字符左右两边都可以，不一定要写全**\n",
    "\n",
    "所以下面的也是可以的"
   ]
  },
  {
   "cell_type": "code",
   "execution_count": 29,
   "metadata": {
    "collapsed": false
   },
   "outputs": [
    {
     "name": "stdout",
     "output_type": "stream",
     "text": [
      "h1文字\n"
     ]
    }
   ],
   "source": [
    "print re.findall('>(.*?)</h1',html)[0]"
   ]
  },
  {
   "cell_type": "markdown",
   "metadata": {},
   "source": [
    "为什么匹配模式 我写的还是 `.*?` 呢？\n",
    "\n",
    "主要是因为我懒，而且这是最简单也是最好计的\n",
    "如果写全 是这样的"
   ]
  },
  {
   "cell_type": "code",
   "execution_count": 33,
   "metadata": {
    "collapsed": false
   },
   "outputs": [
    {
     "name": "stdout",
     "output_type": "stream",
     "text": [
      "h1文字\n"
     ]
    }
   ],
   "source": [
    "print re.findall('>(\\w+\\S+)</h1',html)[0]"
   ]
  },
  {
   "cell_type": "code",
   "execution_count": 34,
   "metadata": {
    "collapsed": false
   },
   "outputs": [
    {
     "name": "stdout",
     "output_type": "stream",
     "text": [
      "h1文字\n"
     ]
    }
   ],
   "source": [
    "# 或者\n",
    "print re.findall('>(\\w\\w\\S+)</h1',html)[0]"
   ]
  },
  {
   "cell_type": "code",
   "execution_count": 35,
   "metadata": {
    "collapsed": false
   },
   "outputs": [
    {
     "name": "stdout",
     "output_type": "stream",
     "text": [
      "h1文字\n"
     ]
    }
   ],
   "source": [
    "#获取\n",
    "print re.findall('>(\\w\\w\\S\\S)</h1',html)[0]"
   ]
  },
  {
   "cell_type": "markdown",
   "metadata": {},
   "source": [
    "方法有挺多种，自由组织就好..."
   ]
  },
  {
   "cell_type": "markdown",
   "metadata": {},
   "source": [
    "## 总结\n",
    "\n",
    "`re.findall('左右的字符串(匹配格式的要求)右边的字符串',等待匹配的字符串,flags)`\n",
    "\n",
    "`.*?`\n",
    "\n"
   ]
  },
  {
   "cell_type": "code",
   "execution_count": null,
   "metadata": {
    "collapsed": true
   },
   "outputs": [],
   "source": []
  }
 ],
 "metadata": {
  "kernelspec": {
   "display_name": "Python [default]",
   "language": "python",
   "name": "python2"
  },
  "language_info": {
   "codemirror_mode": {
    "name": "ipython",
    "version": 2
   },
   "file_extension": ".py",
   "mimetype": "text/x-python",
   "name": "python",
   "nbconvert_exporter": "python",
   "pygments_lexer": "ipython2",
   "version": "2.7.12"
  }
 },
 "nbformat": 4,
 "nbformat_minor": 1
}
